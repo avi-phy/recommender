{
 "cells": [
  {
   "cell_type": "markdown",
   "id": "8629702e",
   "metadata": {},
   "source": [
    "# Movie Recommendation System GPU COPY FILE 2"
   ]
  },
  {
   "cell_type": "code",
   "execution_count": 11,
   "id": "34abd94e",
   "metadata": {},
   "outputs": [],
   "source": [
    "import numpy as np\n",
    "import pandas as pd\n",
    "import math\n",
    "import matplotlib.pyplot as plt\n",
    "import seaborn as sns\n",
    "from datetime import datetime\n",
    "from datetime import timedelta\n",
    "import time\n",
    "from sklearn.svm import SVR\n",
    "from sklearn.neighbors import NearestNeighbors\n",
    "import helper_gpu as hp"
   ]
  },
  {
   "cell_type": "markdown",
   "id": "24d7ff93",
   "metadata": {},
   "source": [
    "# Reading Data"
   ]
  },
  {
   "cell_type": "code",
   "execution_count": 12,
   "id": "64654687",
   "metadata": {},
   "outputs": [],
   "source": [
    "query=pd.read_csv(\"/home/avirup/Downloads/ml-100k/u1.base\",header=None,delimiter=\"\\t\",names=[\"user id\", \"item id\",\"rating\",\"timestamp\"])"
   ]
  },
  {
   "cell_type": "code",
   "execution_count": 13,
   "id": "051bde5e",
   "metadata": {},
   "outputs": [],
   "source": [
    "query_test=pd.read_csv(\"/home/avirup/Downloads/ml-100k/u1.test\",header=None,delimiter=\"\\t\",names=[\"user id\", \"item id\",\"rating\",\"timestamp\"])"
   ]
  },
  {
   "cell_type": "code",
   "execution_count": 14,
   "id": "ac663371",
   "metadata": {},
   "outputs": [],
   "source": [
    "user=pd.read_csv(\"/home/avirup/Downloads/ml-100k/user_full.csv\",header=None)"
   ]
  },
  {
   "cell_type": "code",
   "execution_count": 15,
   "id": "24579a9a",
   "metadata": {},
   "outputs": [],
   "source": [
    "item_2=pd.read_csv(\"/home/avirup/Downloads/ml-100k/u.item\",header=None,delimiter=\"|\",encoding='ISO-8859-1')"
   ]
  },
  {
   "cell_type": "code",
   "execution_count": 16,
   "id": "65f80641",
   "metadata": {},
   "outputs": [],
   "source": [
    "item=pd.read_csv(\"/home/avirup/Downloads/ml-100k/final_item.csv\",header=None)"
   ]
  },
  {
   "cell_type": "code",
   "execution_count": 17,
   "id": "78902735",
   "metadata": {},
   "outputs": [],
   "source": [
    "user_2=pd.read_csv(\"/home/avirup/Downloads/ml-100k/user_state.csv\",header=None)"
   ]
  },
  {
   "cell_type": "markdown",
   "id": "447bf5ca",
   "metadata": {},
   "source": [
    "# KNN"
   ]
  },
  {
   "cell_type": "markdown",
   "id": "aaa30c93",
   "metadata": {},
   "source": [
    "## Item Based "
   ]
  },
  {
   "cell_type": "code",
   "execution_count": 18,
   "id": "95285a50",
   "metadata": {},
   "outputs": [],
   "source": [
    "# Generating the movies vs genre matrix\n",
    "genre_movie_embedding=item.iloc[:,2:].values"
   ]
  },
  {
   "cell_type": "code",
   "execution_count": 19,
   "id": "e17ac16e",
   "metadata": {},
   "outputs": [],
   "source": [
    "# Filtering out those item that have already been rated\n",
    "def item_based(user_id,query,query_test,item):\n",
    "    #print(genre_movie_embedding)\n",
    "    genre_movie_embedding_train=[]\n",
    "    for y in query[query[\"user id\"]==user_id][\"item id\"].values:\n",
    "        genre_movie_embedding_train.append(genre_movie_embedding[y-1,:])\n",
    "        \n",
    "    neigh = NearestNeighbors(n_neighbors=1,metric=\"cosine\")\n",
    "    neigh.fit(genre_movie_embedding_train)\n",
    "\n",
    "    \n",
    "# Glink is a class of graph nodes and edge weights put in a tuple (,). The float comparison operators are polymorhed\n",
    "#into this class therefore these data structures can be sorted by any sorting algorithm based on the second\n",
    "#entry of the tuple (,....).\n",
    "\n",
    "    \n",
    "    distance=[]\n",
    "    for i in range(len(item)):\n",
    "        if item.iloc[i,0] not in query[query[\"user id\"]==user_id][\"item id\"].values:\n",
    "            distance.append(hp.glink((item.iloc[i,0],neigh.kneighbors([genre_movie_embedding[i,:]])[0][0,0])))\n",
    "        \n",
    "        \n",
    "    distance=np.sort(distance)\n",
    "    reco=[]\n",
    "    for i in range(50):\n",
    "        reco.append(distance[i].link[0])\n",
    "        \n",
    "    match=0\n",
    "    for x in reco:\n",
    "        if x in query_test[query_test[\"user id\"]==user_id][\"item id\"].values:\n",
    "            match=match+1\n",
    "    return(match,len(query_test[query_test[\"user id\"]==user_id]))"
   ]
  },
  {
   "cell_type": "code",
   "execution_count": 20,
   "id": "e3551312",
   "metadata": {
    "scrolled": true
   },
   "outputs": [
    {
     "name": "stdout",
     "output_type": "stream",
     "text": [
      "0.0187\n"
     ]
    }
   ],
   "source": [
    "temp1=0\n",
    "temp2=0\n",
    "for x in user[0].values:\n",
    "    print(x,end=\"\\r\")\n",
    "    out=item_based(user_id=x,query=query,query_test=query_test,item=item)\n",
    "    temp1=temp1+out[0]\n",
    "    temp2=temp2+out[1]\n",
    "   # print(out[0],out[1])\n",
    "print(temp1/temp2)"
   ]
  },
  {
   "cell_type": "markdown",
   "id": "eeea2d06",
   "metadata": {},
   "source": [
    "## User Based"
   ]
  },
  {
   "cell_type": "code",
   "execution_count": null,
   "id": "32cde74f",
   "metadata": {
    "scrolled": false
   },
   "outputs": [],
   "source": [
    "X=feature=hp.feature_matrix_construct(features=[user[1].unique(),user[2].unique(),user[3].unique(),user[5].unique()],columns_index=[1,2,3,5],df=user)"
   ]
  },
  {
   "cell_type": "code",
   "execution_count": 33,
   "id": "2831d874",
   "metadata": {},
   "outputs": [],
   "source": [
    "neigh = NearestNeighbors(n_neighbors=40,metric=\"cosine\")"
   ]
  },
  {
   "cell_type": "code",
   "execution_count": 34,
   "id": "40a43e70",
   "metadata": {},
   "outputs": [
    {
     "data": {
      "text/plain": [
       "NearestNeighbors(metric='cosine', n_neighbors=40)"
      ]
     },
     "execution_count": 34,
     "metadata": {},
     "output_type": "execute_result"
    }
   ],
   "source": [
    "neigh.fit(X)"
   ]
  },
  {
   "cell_type": "code",
   "execution_count": 35,
   "id": "d2663db0",
   "metadata": {},
   "outputs": [
    {
     "data": {
      "text/plain": [
       "(array([[0.  , 0.  , 0.25, 0.25, 0.25, 0.25, 0.25, 0.25, 0.5 , 0.5 , 0.5 ,\n",
       "         0.5 , 0.5 , 0.5 , 0.5 , 0.5 , 0.5 , 0.5 , 0.5 , 0.5 , 0.5 , 0.5 ,\n",
       "         0.5 , 0.5 , 0.5 , 0.5 , 0.5 , 0.5 , 0.5 , 0.5 , 0.5 , 0.5 , 0.5 ,\n",
       "         0.5 , 0.5 , 0.5 , 0.5 , 0.5 , 0.5 , 0.5 ]]),\n",
       " array([[ 10, 718,  17, 856, 759, 555, 166, 277, 416, 154, 701, 858, 150,\n",
       "         420, 148, 423, 900, 164, 436, 708, 860, 449, 687, 169,  78, 651,\n",
       "         504, 891, 493, 489, 884, 101, 668,   1, 459, 456, 119, 329, 128,\n",
       "         332]]))"
      ]
     },
     "execution_count": 35,
     "metadata": {},
     "output_type": "execute_result"
    }
   ],
   "source": [
    "neigh.kneighbors([X[10,:]])"
   ]
  },
  {
   "cell_type": "code",
   "execution_count": 42,
   "id": "061ac836",
   "metadata": {},
   "outputs": [
    {
     "name": "stdout",
     "output_type": "stream",
     "text": [
      "0.04565217391304348\n"
     ]
    }
   ],
   "source": [
    "tot=0\n",
    "deno_tot=0\n",
    "for k in range(len(user)):\n",
    "    print(k,end=\"\\r\")\n",
    "    Y=neigh.kneighbors([X[k,:]])\n",
    "    reco=[]\n",
    "    for i in range(len(Y[0][0])):\n",
    "        if Y[0][0][i]==0:\n",
    "            reco.append(Y[1][0][i])\n",
    "    #print(reco)\n",
    "\n",
    "    for x in reco:\n",
    "        if x !=k:\n",
    "            check1=query[\"user id\"]==x+1\n",
    "            check2=query[\"rating\"]==5\n",
    "            tot=tot+(len(query[check1 & check2].merge(query_test[query_test[\"user id\"]==k+1],\\\n",
    "                    how=\"inner\", left_on=\"item id\",right_on=\"item id\")))\n",
    "            deno_tot=deno_tot+len(query[check1 & check2])\n",
    "print(tot/deno_tot)"
   ]
  },
  {
   "cell_type": "code",
   "execution_count": null,
   "id": "3722736a",
   "metadata": {},
   "outputs": [],
   "source": []
  },
  {
   "cell_type": "code",
   "execution_count": null,
   "id": "72087a52",
   "metadata": {},
   "outputs": [],
   "source": []
  },
  {
   "cell_type": "code",
   "execution_count": null,
   "id": "c33f1063",
   "metadata": {},
   "outputs": [],
   "source": []
  },
  {
   "cell_type": "code",
   "execution_count": null,
   "id": "a5744df5",
   "metadata": {},
   "outputs": [],
   "source": []
  },
  {
   "cell_type": "code",
   "execution_count": null,
   "id": "e12ae830",
   "metadata": {},
   "outputs": [],
   "source": []
  },
  {
   "cell_type": "code",
   "execution_count": null,
   "id": "4b4bfbe4",
   "metadata": {},
   "outputs": [],
   "source": []
  },
  {
   "cell_type": "code",
   "execution_count": null,
   "id": "a1265f9a",
   "metadata": {},
   "outputs": [],
   "source": []
  },
  {
   "cell_type": "code",
   "execution_count": null,
   "id": "ea24cda5",
   "metadata": {},
   "outputs": [],
   "source": []
  },
  {
   "cell_type": "code",
   "execution_count": null,
   "id": "f5609522",
   "metadata": {},
   "outputs": [],
   "source": []
  },
  {
   "cell_type": "code",
   "execution_count": null,
   "id": "a62f3e5a",
   "metadata": {},
   "outputs": [],
   "source": []
  },
  {
   "cell_type": "code",
   "execution_count": null,
   "id": "9a1e8d86",
   "metadata": {},
   "outputs": [],
   "source": []
  },
  {
   "cell_type": "code",
   "execution_count": null,
   "id": "60e3e589",
   "metadata": {},
   "outputs": [],
   "source": []
  }
 ],
 "metadata": {
  "kernelspec": {
   "display_name": "Python 3 (ipykernel)",
   "language": "python",
   "name": "python3"
  },
  "language_info": {
   "codemirror_mode": {
    "name": "ipython",
    "version": 3
   },
   "file_extension": ".py",
   "mimetype": "text/x-python",
   "name": "python",
   "nbconvert_exporter": "python",
   "pygments_lexer": "ipython3",
   "version": "3.9.12"
  }
 },
 "nbformat": 4,
 "nbformat_minor": 5
}
