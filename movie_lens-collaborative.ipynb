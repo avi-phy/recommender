{
 "cells": [
  {
   "cell_type": "markdown",
   "id": "8629702e",
   "metadata": {},
   "source": [
    "# Movie Recommendation System Collaborative Filter"
   ]
  },
  {
   "cell_type": "code",
   "execution_count": 1,
   "id": "c5b20e13",
   "metadata": {},
   "outputs": [],
   "source": [
    "import numpy as np\n",
    "import pandas as pd\n",
    "import math\n",
    "import matplotlib.pyplot as plt\n",
    "import seaborn as sns\n",
    "from datetime import datetime\n",
    "from datetime import timedelta\n",
    "import time\n",
    "from sklearn.svm import SVR\n",
    "import cupy as cp\n",
    "from numba import cuda\n",
    "import helper_gpu as hpgpu"
   ]
  },
  {
   "cell_type": "code",
   "execution_count": 2,
   "id": "ffc6eb4a",
   "metadata": {},
   "outputs": [
    {
     "name": "stdout",
     "output_type": "stream",
     "text": [
      "Found 1 CUDA devices\n",
      "id 0    b'NVIDIA GeForce GTX 1050'                              [SUPPORTED]\n",
      "                      Compute Capability: 6.1\n",
      "                           PCI Device ID: 0\n",
      "                              PCI Bus ID: 1\n",
      "                                    UUID: GPU-a153ca43-2bac-7e7e-5575-ebeb58f54b42\n",
      "                                Watchdog: Enabled\n",
      "             FP32/FP64 Performance Ratio: 32\n",
      "Summary:\n",
      "\t1/1 devices are supported\n"
     ]
    },
    {
     "data": {
      "text/plain": [
       "True"
      ]
     },
     "execution_count": 2,
     "metadata": {},
     "output_type": "execute_result"
    }
   ],
   "source": [
    "cuda.detect()"
   ]
  },
  {
   "cell_type": "markdown",
   "id": "24d7ff93",
   "metadata": {},
   "source": [
    "# Reading Data"
   ]
  },
  {
   "cell_type": "code",
   "execution_count": 3,
   "id": "64654687",
   "metadata": {},
   "outputs": [],
   "source": [
    "query=pd.read_csv(\"~/Downloads/ml-100k/u5.base\",header=None,delimiter=\"\\t\",names=[\"user id\", \"item id\",\"rating\",\"timestamp\"])"
   ]
  },
  {
   "cell_type": "code",
   "execution_count": 4,
   "id": "051bde5e",
   "metadata": {},
   "outputs": [],
   "source": [
    "query_test=pd.read_csv(\"~/Downloads/ml-100k/u5.test\",header=None,delimiter=\"\\t\",names=[\"user id\", \"item id\",\"rating\",\"timestamp\"])"
   ]
  },
  {
   "cell_type": "code",
   "execution_count": 5,
   "id": "ac663371",
   "metadata": {},
   "outputs": [],
   "source": [
    "user=pd.read_csv(\"~/Downloads/ml-100k/user_full.csv\",header=None)"
   ]
  },
  {
   "cell_type": "code",
   "execution_count": 6,
   "id": "24579a9a",
   "metadata": {},
   "outputs": [],
   "source": [
    "item_2=pd.read_csv(\"~/Downloads/ml-100k/u.item\",header=None,delimiter=\"|\",encoding='ISO-8859-1')"
   ]
  },
  {
   "cell_type": "code",
   "execution_count": 7,
   "id": "65f80641",
   "metadata": {},
   "outputs": [],
   "source": [
    "item=pd.read_csv(\"~/Downloads/ml-100k/item_final.csv\")"
   ]
  },
  {
   "cell_type": "markdown",
   "id": "abf9e1d2",
   "metadata": {},
   "source": [
    "# Analysis of query"
   ]
  },
  {
   "cell_type": "code",
   "execution_count": 8,
   "id": "e577fd1e",
   "metadata": {},
   "outputs": [
    {
     "data": {
      "text/plain": [
       "array([[5., 3., 0., ..., 0., 0., 0.],\n",
       "       [4., 0., 0., ..., 0., 0., 0.],\n",
       "       [0., 0., 0., ..., 0., 0., 0.],\n",
       "       ...,\n",
       "       [0., 0., 0., ..., 0., 0., 0.],\n",
       "       [0., 0., 0., ..., 0., 0., 0.],\n",
       "       [0., 0., 0., ..., 0., 0., 0.]])"
      ]
     },
     "execution_count": 8,
     "metadata": {},
     "output_type": "execute_result"
    }
   ],
   "source": [
    "A=cp.zeros((943,1682))\n",
    "B=cp.asarray(query.iloc[:,0].values)\n",
    "\n",
    "C=cp.asarray(query.iloc[:,1].values)\n",
    "\n",
    "D=cp.asarray(query.iloc[:,2].values)\n",
    "\n",
    "@cuda.jit\n",
    "def rating_func(A,B,C,D):\n",
    "    row=cuda.grid(1)\n",
    "    if row<len(B):\n",
    "        A[B[row]-1,C[row]-1]=D[row]\n",
    "\n",
    "rating_func[200,500](A,B,C,D)\n",
    "\n",
    "rating=cp.asnumpy(A)\n",
    "\n",
    "del A,B,C,D\n",
    "\n",
    "rating"
   ]
  },
  {
   "cell_type": "markdown",
   "id": "84f281fd",
   "metadata": {},
   "source": [
    "# Collaborative Filtering"
   ]
  },
  {
   "cell_type": "code",
   "execution_count": 9,
   "id": "66e7b482",
   "metadata": {},
   "outputs": [
    {
     "name": "stdout",
     "output_type": "stream",
     "text": [
      "sparse square error:1.5657952352104472 gravity:0.18858163009517126 regularisation:1.8121957709200736 regularisation:1.8159405846627827\n",
      "Finished in 33.928148859999965 secs\n"
     ]
    },
    {
     "data": {
      "image/png": "[encoded data removed]",
      "text/plain": [
       "<Figure size 432x288 with 1 Axes>"
      ]
     },
     "metadata": {
      "needs_background": "light"
     },
     "output_type": "display_data"
    }
   ],
   "source": [
    "learned_rating=cp.asnumpy(hpgpu.fact_reg_sparse(steps=100,rating=rating,dim=30,gravity=1,weight=0.02,learn_rate=20)[0])"
   ]
  },
  {
   "cell_type": "code",
   "execution_count": 10,
   "id": "9c56ff15",
   "metadata": {},
   "outputs": [
    {
     "name": "stdout",
     "output_type": "stream",
     "text": [
      "0.27495\n"
     ]
    }
   ],
   "source": [
    "temp1=0\n",
    "temp2=0\n",
    "for user_id in user[0].values:\n",
    "    print(user_id,end=\"\\r\")\n",
    "    X=pd.DataFrame(columns=[\"item id\",\"score\"])\n",
    "    X[\"item id\"]=[int(i+1) for i in range(rating.shape[1])]\n",
    "    X[\"score\"]=learned_rating[user_id-1,:]\n",
    "    reco=hpgpu.recommendation(user_id=user_id,rank_matrix=X,query=query,\\\n",
    "                              length=len(query_test[query_test[\"user id\"]==user_id])\\\n",
    "                              ,score_name=\"score\",itemid_name=\"item id\",userid_name=\"user id\")\n",
    "    Y=pd.merge(reco,query_test[query_test[\"user id\"]==user_id],how=\"inner\",left_on=\"item id\",right_on=\"item id\")\n",
    "    temp1=temp1+len(query_test[query_test[\"user id\"]==user_id])\n",
    "    temp2=temp2+len(Y)\n",
    "print(temp2/temp1)"
   ]
  },
  {
   "cell_type": "markdown",
   "id": "726949c6",
   "metadata": {},
   "source": [
    "# Feature Based Collaborative Filtering"
   ]
  },
  {
   "cell_type": "markdown",
   "id": "a147ddcd",
   "metadata": {},
   "source": [
    "## MOVIE features"
   ]
  },
  {
   "cell_type": "code",
   "execution_count": 11,
   "id": "1428098b",
   "metadata": {},
   "outputs": [],
   "source": [
    "genre_movie_embedding=item.iloc[:,2:].values"
   ]
  },
  {
   "cell_type": "code",
   "execution_count": 12,
   "id": "37e00353",
   "metadata": {},
   "outputs": [
    {
     "name": "stdout",
     "output_type": "stream",
     "text": [
      "sparse square error:3.7083118001545885 gravity:0.24390390235631698 regularisation:2.0925980023383187 regularisation:2.09253372474601225\n",
      "Finished in 60.13288227399994 secs\n"
     ]
    },
    {
     "data": {
      "image/png": "[encoded data removed]",
      "text/plain": [
       "<Figure size 432x288 with 1 Axes>"
      ]
     },
     "metadata": {
      "needs_background": "light"
     },
     "output_type": "display_data"
    }
   ],
   "source": [
    "learned_rating=hpgpu.fact_reg_sparse(learn_rate=100,rating=rating,steps=200,\\\n",
    "                                     choice=1,v=np.transpose(genre_movie_embedding),weight=.02,gravity=1)[0]\n",
    "learned_rating=cp.asnumpy(learned_rating)                                                                                                          "
   ]
  },
  {
   "cell_type": "code",
   "execution_count": 13,
   "id": "d1b564af",
   "metadata": {},
   "outputs": [
    {
     "name": "stdout",
     "output_type": "stream",
     "text": [
      "0.1052\n"
     ]
    }
   ],
   "source": [
    "temp1=0\n",
    "temp2=0\n",
    "for user_id in user[0].values:\n",
    "    print(user_id,end=\"\\r\")\n",
    "    X=pd.DataFrame(columns=[\"item id\",\"score\"])\n",
    "    X[\"item id\"]=[int(i+1) for i in range(rating.shape[1])]\n",
    "    X[\"score\"]=learned_rating[user_id-1,:]\n",
    "    reco=hpgpu.recommendation(user_id=user_id,rank_matrix=X,query=query,\\\n",
    "                              length=len(query_test[query_test[\"user id\"]==user_id])\\\n",
    "                              ,score_name=\"score\",itemid_name=\"item id\",userid_name=\"user id\")\n",
    "    Y=pd.merge(reco,query_test[query_test[\"user id\"]==user_id],how=\"inner\",left_on=\"item id\",right_on=\"item id\")\n",
    "    temp1=temp1+len(query_test[query_test[\"user id\"]==user_id])\n",
    "    temp2=temp2+len(Y)\n",
    "print(temp2/temp1)"
   ]
  },
  {
   "cell_type": "markdown",
   "id": "3b5f72d8",
   "metadata": {},
   "source": [
    "## USER features"
   ]
  },
  {
   "cell_type": "code",
   "execution_count": 14,
   "id": "1fbd5794",
   "metadata": {},
   "outputs": [
    {
     "name": "stdout",
     "output_type": "stream",
     "text": [
      "0...done\n",
      "1...done\n",
      "2...done\n",
      "3...done\n"
     ]
    }
   ],
   "source": [
    "feature=hpgpu.feature_matrix_construct(features=[user[1].unique(),user[2].unique(),user[3].unique(),user[5].unique()],columns_index=[1,2,3,5],df=user)"
   ]
  },
  {
   "cell_type": "code",
   "execution_count": 15,
   "id": "5394ec66",
   "metadata": {},
   "outputs": [
    {
     "data": {
      "text/plain": [
       "array([[1., 0., 0., ..., 0., 0., 0.],\n",
       "       [0., 1., 0., ..., 0., 0., 0.],\n",
       "       [1., 0., 0., ..., 0., 0., 0.],\n",
       "       ...,\n",
       "       [1., 0., 0., ..., 0., 0., 0.],\n",
       "       [0., 0., 0., ..., 0., 0., 0.],\n",
       "       [1., 0., 0., ..., 0., 0., 0.]])"
      ]
     },
     "execution_count": 15,
     "metadata": {},
     "output_type": "execute_result"
    }
   ],
   "source": [
    "feature"
   ]
  },
  {
   "cell_type": "code",
   "execution_count": 16,
   "id": "029362f3",
   "metadata": {},
   "outputs": [
    {
     "name": "stdout",
     "output_type": "stream",
     "text": [
      "sparse square error:1.7198675703424529 gravity:0.4132526199949328 regularisation:2.124979311670460346 regularisation:2.1254056900360876\n",
      "Finished in 67.36765132699998 secs\n"
     ]
    },
    {
     "data": {
      "image/png": "[encoded data removed]",
      "text/plain": [
       "<Figure size 432x288 with 1 Axes>"
      ]
     },
     "metadata": {
      "needs_background": "light"
     },
     "output_type": "display_data"
    }
   ],
   "source": [
    "learned_rating=hpgpu.fact_reg_sparse(learn_rate=100,rating=rating,steps=200,\\\n",
    "                                     choice=2,u=feature,weight=.02,gravity=1)[0]\n",
    "learned_rating=cp.asnumpy(learned_rating) "
   ]
  },
  {
   "cell_type": "code",
   "execution_count": 17,
   "id": "7ddfb04b",
   "metadata": {},
   "outputs": [
    {
     "name": "stdout",
     "output_type": "stream",
     "text": [
      "0.21285\n"
     ]
    }
   ],
   "source": [
    "temp1=0\n",
    "temp2=0\n",
    "for user_id in user[0].values:\n",
    "    print(user_id,end=\"\\r\")\n",
    "    X=pd.DataFrame(columns=[\"item id\",\"score\"])\n",
    "    X[\"item id\"]=[int(i+1) for i in range(rating.shape[1])]\n",
    "    X[\"score\"]=learned_rating[user_id-1,:]\n",
    "    reco=hpgpu.recommendation(user_id=user_id,rank_matrix=X,query=query,\\\n",
    "                              length=len(query_test[query_test[\"user id\"]==user_id])\\\n",
    "                              ,score_name=\"score\",itemid_name=\"item id\",userid_name=\"user id\")\n",
    "    Y=pd.merge(reco,query_test[query_test[\"user id\"]==user_id],how=\"inner\",left_on=\"item id\",right_on=\"item id\")\n",
    "    temp1=temp1+len(query_test[query_test[\"user id\"]==user_id])\n",
    "    temp2=temp2+len(Y)\n",
    "print(temp2/temp1)"
   ]
  },
  {
   "cell_type": "code",
   "execution_count": null,
   "id": "b588580e",
   "metadata": {},
   "outputs": [],
   "source": []
  }
 ],
 "metadata": {
  "kernelspec": {
   "display_name": "Python 3 (ipykernel)",
   "language": "python",
   "name": "python3"
  },
  "language_info": {
   "codemirror_mode": {
    "name": "ipython",
    "version": 3
   },
   "file_extension": ".py",
   "mimetype": "text/x-python",
   "name": "python",
   "nbconvert_exporter": "python",
   "pygments_lexer": "ipython3",
   "version": "3.9.12"
  }
 },
 "nbformat": 4,
 "nbformat_minor": 5
}
