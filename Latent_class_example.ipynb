{
 "cells": [
  {
   "cell_type": "markdown",
   "id": "ac07ace4",
   "metadata": {},
   "source": [
    "# Latent Class Analysis"
   ]
  },
  {
   "cell_type": "code",
   "execution_count": 1,
   "id": "b6b48b4e",
   "metadata": {},
   "outputs": [],
   "source": [
    "import numpy as np\n",
    "import math\n",
    "import helper_contingency as hpc\n",
    "import helper_cpu as hpcpu"
   ]
  },
  {
   "cell_type": "code",
   "execution_count": 2,
   "id": "4059ce65",
   "metadata": {},
   "outputs": [],
   "source": [
    "table=np.array([[64,94,58,46],[57,94,54,40],[57,105,65,60],[72,141,77,94],[36,97,54,78],[21,71,54,71]])"
   ]
  },
  {
   "cell_type": "code",
   "execution_count": 3,
   "id": "6e4b233d",
   "metadata": {},
   "outputs": [
    {
     "name": "stdout",
     "output_type": "stream",
     "text": [
      "45.985258802994935 47.41784679189713\n"
     ]
    }
   ],
   "source": [
    "table_model=hpc.xy_independent_model(table)\n",
    "\n",
    "print(hpc.chi_square(table,table_model),hpc.likelihood_ratio(table,table_model))"
   ]
  },
  {
   "cell_type": "code",
   "execution_count": 4,
   "id": "115ccb6f",
   "metadata": {
    "scrolled": true
   },
   "outputs": [
    {
     "name": "stdout",
     "output_type": "stream",
     "text": [
      "Finished in 0.8435977680001088 secs99 error: 0.057214532281694964\n",
      "2.7430685761374427 2.746297549520827\n"
     ]
    },
    {
     "data": {
      "image/png": "[encoded data removed]",
      "text/plain": [
       "<Figure size 432x288 with 1 Axes>"
      ]
     },
     "metadata": {
      "needs_background": "light"
     },
     "output_type": "display_data"
    }
   ],
   "source": [
    "table_model=hpcpu.nmf_kl(R=table,steps=1000,dim=2)[2]\n",
    "print(hpc.chi_square(table,table_model),hpc.likelihood_ratio(table,table_model))"
   ]
  },
  {
   "cell_type": "code",
   "execution_count": null,
   "id": "8d0a4407",
   "metadata": {},
   "outputs": [],
   "source": []
  },
  {
   "cell_type": "code",
   "execution_count": null,
   "id": "a1f0a50d",
   "metadata": {},
   "outputs": [],
   "source": []
  },
  {
   "cell_type": "code",
   "execution_count": null,
   "id": "da002515",
   "metadata": {},
   "outputs": [],
   "source": []
  },
  {
   "cell_type": "code",
   "execution_count": null,
   "id": "a6b29eb9",
   "metadata": {},
   "outputs": [],
   "source": []
  }
 ],
 "metadata": {
  "kernelspec": {
   "display_name": "Python 3 (ipykernel)",
   "language": "python",
   "name": "python3"
  },
  "language_info": {
   "codemirror_mode": {
    "name": "ipython",
    "version": 3
   },
   "file_extension": ".py",
   "mimetype": "text/x-python",
   "name": "python",
   "nbconvert_exporter": "python",
   "pygments_lexer": "ipython3",
   "version": "3.9.12"
  }
 },
 "nbformat": 4,
 "nbformat_minor": 5
}
